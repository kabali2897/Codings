{
  "nbformat": 4,
  "nbformat_minor": 0,
  "metadata": {
    "colab": {
      "name": "Untitled0.ipynb",
      "provenance": [],
      "authorship_tag": "ABX9TyOz0d30V8vFNax2CPwnwmVG",
      "include_colab_link": true
    },
    "kernelspec": {
      "name": "python3",
      "display_name": "Python 3"
    },
    "language_info": {
      "name": "python"
    }
  },
  "cells": [
    {
      "cell_type": "markdown",
      "metadata": {
        "id": "view-in-github",
        "colab_type": "text"
      },
      "source": [
        "<a href=\"https://colab.research.google.com/github/kabali2897/Codings/blob/main/Untitled0.ipynb\" target=\"_parent\"><img src=\"https://colab.research.google.com/assets/colab-badge.svg\" alt=\"Open In Colab\"/></a>"
      ]
    },
    {
      "cell_type": "code",
      "execution_count": 4,
      "metadata": {
        "colab": {
          "base_uri": "https://localhost:8080/"
        },
        "id": "3qkSloIF26Ce",
        "outputId": "fbbea3b2-8f8d-4deb-bcc8-3e983a4807d6"
      },
      "outputs": [
        {
          "output_type": "stream",
          "name": "stdout",
          "text": [
            "35\n"
          ]
        }
      ],
      "source": [
        "#python keywords\n",
        "import keyword\n",
        "print(len(keyword.kwlist))"
      ]
    },
    {
      "cell_type": "markdown",
      "source": [
        " Defining a varible"
      ],
      "metadata": {
        "id": "nlWDnMHq4mFc"
      }
    },
    {
      "cell_type": "code",
      "source": [
        "a=10   #integer\n",
        "b=20.3 #float/double\n",
        "c=\"abc\" #string"
      ],
      "metadata": {
        "id": "MG4D9cJm27Ow"
      },
      "execution_count": 5,
      "outputs": []
    },
    {
      "cell_type": "code",
      "source": [
        "a,b,c=10,20.3,\"abc\""
      ],
      "metadata": {
        "id": "I3LMshy_44CG"
      },
      "execution_count": 6,
      "outputs": []
    },
    {
      "cell_type": "markdown",
      "source": [
        "To print address\n"
      ],
      "metadata": {
        "id": "8a50UNiF5DVy"
      }
    },
    {
      "cell_type": "code",
      "source": [
        "print(id(a))"
      ],
      "metadata": {
        "colab": {
          "base_uri": "https://localhost:8080/"
        },
        "id": "fhLO6UiK5Fz7",
        "outputId": "8d509194-8a43-407d-9194-de931fa4b58f"
      },
      "execution_count": 8,
      "outputs": [
        {
          "output_type": "stream",
          "name": "stdout",
          "text": [
            "93873356684064\n"
          ]
        }
      ]
    },
    {
      "cell_type": "markdown",
      "source": [
        "code to print type of identifier"
      ],
      "metadata": {
        "id": "K-0jFcq75eoX"
      }
    },
    {
      "cell_type": "code",
      "source": [
        "print(type(a))\n",
        "print(type(b))\n",
        "print(type(c))\n",
        "\n",
        "d=2+2j\n",
        "e=True\n",
        "print(type(d))\n",
        "print(type(e))"
      ],
      "metadata": {
        "colab": {
          "base_uri": "https://localhost:8080/"
        },
        "id": "36cXSsBU5jLC",
        "outputId": "1c688d08-4029-4978-d423-f0e4ec798491"
      },
      "execution_count": 13,
      "outputs": [
        {
          "output_type": "stream",
          "name": "stdout",
          "text": [
            "<class 'int'>\n",
            "<class 'int'>\n",
            "<class 'str'>\n",
            "<class 'complex'>\n",
            "<class 'bool'>\n"
          ]
        }
      ]
    },
    {
      "cell_type": "markdown",
      "source": [
        "String in Python"
      ],
      "metadata": {
        "id": "bsmiFnjv6GED"
      }
    },
    {
      "cell_type": "code",
      "source": [
        "s= \"Welcome to TCS\"\n",
        "#print(s)\n",
        "#print(s[0])\n",
        "print(s[5:])\n",
        "print(s[5::2])  #print increment\n",
        "print(s[::-1])  #reverse printing"
      ],
      "metadata": {
        "colab": {
          "base_uri": "https://localhost:8080/"
        },
        "id": "73zHAveS6Igi",
        "outputId": "409797bb-9594-41ee-fbbf-180055a692df"
      },
      "execution_count": 19,
      "outputs": [
        {
          "output_type": "stream",
          "name": "stdout",
          "text": [
            "me to TCS\n",
            "m oTS\n",
            "SCT ot emocleW\n"
          ]
        }
      ]
    },
    {
      "cell_type": "markdown",
      "source": [
        "List in Python :\n",
        "A list is a data structure in Python that is a mutable, or changeable, ordered sequence of elements."
      ],
      "metadata": {
        "id": "yToFTEcn7gM0"
      }
    },
    {
      "cell_type": "code",
      "source": [
        "emptyList=[]\n",
        "listOfNumbers=[1,2,3,4,5]\n",
        "listOfString=[\"abc\",\"bcd\"]\n",
        "list4=[1,2,3,4,5,\"abc\",True]\n",
        "\n",
        "print(list4[4])\n",
        "print(list4[-1])\n",
        "list4.append(\"Hello\")   #to add string/number to list\n",
        "print(list4)\n",
        "list4.remove(\"abc\")\n",
        "print(list4)"
      ],
      "metadata": {
        "colab": {
          "base_uri": "https://localhost:8080/"
        },
        "id": "Izsn-cx67iPb",
        "outputId": "58e13b2c-4a1e-4947-dc72-ace0d2c82034"
      },
      "execution_count": 26,
      "outputs": [
        {
          "output_type": "stream",
          "name": "stdout",
          "text": [
            "5\n",
            "True\n",
            "[1, 2, 3, 4, 5, 'abc', True, 'Hello']\n",
            "[1, 2, 3, 4, 5, True, 'Hello']\n"
          ]
        }
      ]
    },
    {
      "cell_type": "markdown",
      "source": [
        "Tuple in Python : Tuples are used to store multiple items in a single variable.immutable"
      ],
      "metadata": {
        "id": "ChLr88T69CqL"
      }
    },
    {
      "cell_type": "code",
      "source": [
        "t="
      ],
      "metadata": {
        "id": "z7Kq6D5C9PJ2"
      },
      "execution_count": null,
      "outputs": []
    },
    {
      "cell_type": "markdown",
      "source": [
        "Sets in Python : "
      ],
      "metadata": {
        "id": "5a0lYYKT9d9T"
      }
    },
    {
      "cell_type": "code",
      "source": [
        "s=set()  #empty set\n",
        "s={1,2,3,3,4,4,5,5,6,6,7,7}     #empty dictionary\n",
        "print(s)"
      ],
      "metadata": {
        "colab": {
          "base_uri": "https://localhost:8080/"
        },
        "id": "BjvbsVO89f8j",
        "outputId": "b15f7ae4-da00-4ec6-f4e7-d40e5296c5f0"
      },
      "execution_count": 27,
      "outputs": [
        {
          "output_type": "stream",
          "name": "stdout",
          "text": [
            "{1, 2, 3, 4, 5, 6, 7}\n"
          ]
        }
      ]
    },
    {
      "cell_type": "markdown",
      "source": [
        "Dictionary in Python"
      ],
      "metadata": {
        "id": "KTcoFhlO-RyZ"
      }
    },
    {
      "cell_type": "code",
      "source": [
        "dtc={}"
      ],
      "metadata": {
        "id": "ESBRcRyA-Tm9"
      },
      "execution_count": null,
      "outputs": []
    },
    {
      "cell_type": "code",
      "source": [
        "dtc={1:\"Hello\",2:\"How\",3:\"are\",4:\"you\"}\n",
        "print(dtc)\n",
        "print(dtc.keys())\n",
        "print(dtc.values())\n",
        "dtc[5]=\"arun\"\n",
        "print(dtc)"
      ],
      "metadata": {
        "colab": {
          "base_uri": "https://localhost:8080/"
        },
        "id": "3puKMLwR-gKE",
        "outputId": "f9a3020a-6e1d-4d35-e00f-8bf47a081eb1"
      },
      "execution_count": 31,
      "outputs": [
        {
          "output_type": "stream",
          "name": "stdout",
          "text": [
            "{1: 'Hello', 2: 'How', 3: 'are', 4: 'you'}\n",
            "dict_keys([1, 2, 3, 4])\n",
            "dict_values(['Hello', 'How', 'are', 'you'])\n",
            "{1: 'Hello', 2: 'How', 3: 'are', 4: 'you', 5: 'arun'}\n"
          ]
        }
      ]
    },
    {
      "cell_type": "markdown",
      "source": [
        "Converting data types"
      ],
      "metadata": {
        "id": "DhTrSMj6_CNU"
      }
    },
    {
      "cell_type": "code",
      "source": [
        "lst=[1,2,3,4]\n",
        "print(type(lst))\n",
        "a=tuple(lst)\n",
        "print(a)\n",
        "print(type(a))\n",
        "a=set(a)\n",
        "print(a)\n",
        "print(type(a))\n",
        "a=list(a)\n",
        "print(a)\n",
        "print(type(a))"
      ],
      "metadata": {
        "colab": {
          "base_uri": "https://localhost:8080/"
        },
        "id": "Pc7HtoXv_Ekr",
        "outputId": "6425ccbe-dd4e-421f-b916-e20d2123f34e"
      },
      "execution_count": 36,
      "outputs": [
        {
          "output_type": "stream",
          "name": "stdout",
          "text": [
            "<class 'list'>\n",
            "(1, 2, 3, 4)\n",
            "<class 'tuple'>\n",
            "{1, 2, 3, 4}\n",
            "<class 'set'>\n",
            "[1, 2, 3, 4]\n",
            "<class 'list'>\n"
          ]
        }
      ]
    },
    {
      "cell_type": "markdown",
      "source": [
        "Sorting of list"
      ],
      "metadata": {
        "id": "93_HQqUI_kBF"
      }
    },
    {
      "cell_type": "code",
      "source": [
        "lst=[9,7,0,1,5,2,4]\n",
        "lst.sort()\n",
        "print(lst)"
      ],
      "metadata": {
        "colab": {
          "base_uri": "https://localhost:8080/"
        },
        "id": "ITjtOYau_m__",
        "outputId": "6ec41ee3-5ad2-40a0-88c7-6851084ba33a"
      },
      "execution_count": 38,
      "outputs": [
        {
          "output_type": "stream",
          "name": "stdout",
          "text": [
            "[0, 1, 2, 4, 5, 7, 9]\n"
          ]
        }
      ]
    },
    {
      "cell_type": "code",
      "source": [
        "lst=[9,7,0,1,5,2,4]\n",
        "b=sorted(lst,reverse=True)\n",
        "print(b)\n",
        "#reverse\n",
        "#reverse=True"
      ],
      "metadata": {
        "colab": {
          "base_uri": "https://localhost:8080/"
        },
        "id": "pWE5UhwM_y67",
        "outputId": "b513faf2-16b1-4237-9dd7-068db95f6a91"
      },
      "execution_count": 41,
      "outputs": [
        {
          "output_type": "stream",
          "name": "stdout",
          "text": [
            "[9, 7, 5, 4, 2, 1, 0]\n"
          ]
        }
      ]
    },
    {
      "cell_type": "markdown",
      "source": [
        "Taking input in python"
      ],
      "metadata": {
        "id": "orAgyD8JAU3v"
      }
    },
    {
      "cell_type": "code",
      "source": [
        "a=input()"
      ],
      "metadata": {
        "id": "-m5f54CZAYM9"
      },
      "execution_count": null,
      "outputs": []
    },
    {
      "cell_type": "code",
      "source": [
        "print(a)\n",
        "print(type(a))"
      ],
      "metadata": {
        "id": "ZlY0hocoAxmg"
      },
      "execution_count": null,
      "outputs": []
    },
    {
      "cell_type": "code",
      "source": [
        "a=int(input())"
      ],
      "metadata": {
        "id": "LJ2pGXpFA36c"
      },
      "execution_count": null,
      "outputs": []
    },
    {
      "cell_type": "markdown",
      "source": [
        "Condition in Python"
      ],
      "metadata": {
        "id": "Oyi58F5gBCpC"
      }
    },
    {
      "cell_type": "code",
      "source": [
        "a=10\n",
        "b=20\n",
        "c=30\n",
        "if(a>b):\n",
        "  print (a)\n",
        "elif(b>c):\n",
        "  print(b)\n",
        "else:\n",
        "  print (c)"
      ],
      "metadata": {
        "colab": {
          "base_uri": "https://localhost:8080/"
        },
        "id": "i5WAUlBiBMGv",
        "outputId": "e21c12e2-c7f5-4acd-f230-cacbaf8fc264"
      },
      "execution_count": 49,
      "outputs": [
        {
          "output_type": "stream",
          "name": "stdout",
          "text": [
            "30\n"
          ]
        }
      ]
    },
    {
      "cell_type": "markdown",
      "source": [
        "While loop"
      ],
      "metadata": {
        "id": "0Q13bNUBCkS9"
      }
    },
    {
      "cell_type": "code",
      "source": [
        "lst=[1,2,3,4,5,6,7,8,9]\n",
        "start=0\n",
        "end=len(lst)\n",
        "while start<end:\n",
        "  print(lst[start],end=\" \")\n",
        "  start=start+1"
      ],
      "metadata": {
        "colab": {
          "base_uri": "https://localhost:8080/"
        },
        "id": "kKrMYeFJCmN1",
        "outputId": "a1ce3942-257b-4f26-f4d6-475627797a16"
      },
      "execution_count": 55,
      "outputs": [
        {
          "output_type": "stream",
          "name": "stdout",
          "text": [
            "1 2 3 4 5 6 7 8 9 "
          ]
        }
      ]
    },
    {
      "cell_type": "markdown",
      "source": [
        "For loop"
      ],
      "metadata": {
        "id": "ZwRAtL2IDffl"
      }
    },
    {
      "cell_type": "code",
      "source": [
        "lst=[1,2,3,4,5,6,7,8,9]\n",
        "for i in lst:\n",
        "  print(i,end=\" \")"
      ],
      "metadata": {
        "colab": {
          "base_uri": "https://localhost:8080/"
        },
        "id": "uILaoiKPDhfW",
        "outputId": "517d7599-6264-4948-b81b-22e7635e8801"
      },
      "execution_count": 58,
      "outputs": [
        {
          "output_type": "stream",
          "name": "stdout",
          "text": [
            "1 2 3 4 5 6 7 8 9 "
          ]
        }
      ]
    },
    {
      "cell_type": "code",
      "source": [
        "lst=[1,2,3,4,5,6,7,8,9]\n",
        "for i in range(1,15,2): #increamented by 2\n",
        "  print(i,end=\" \")"
      ],
      "metadata": {
        "colab": {
          "base_uri": "https://localhost:8080/"
        },
        "id": "ZHddCv1tDtde",
        "outputId": "847a0f09-f1a6-48fc-dd05-c2dbd0f587a5"
      },
      "execution_count": 64,
      "outputs": [
        {
          "output_type": "stream",
          "name": "stdout",
          "text": [
            "1 3 5 7 9 11 13 "
          ]
        }
      ]
    },
    {
      "cell_type": "markdown",
      "source": [
        "Break and continue"
      ],
      "metadata": {
        "id": "8ZdAAE_YEIsq"
      }
    },
    {
      "cell_type": "code",
      "source": [
        "for i in range(1,15,2):\n",
        "   if(i==5):\n",
        "     break\n",
        "   print(i,end=\" \")"
      ],
      "metadata": {
        "colab": {
          "base_uri": "https://localhost:8080/"
        },
        "id": "jXHokt-fEPFN",
        "outputId": "ad34126b-ef6f-47fd-fc8e-6d81256d4a7d"
      },
      "execution_count": 66,
      "outputs": [
        {
          "output_type": "stream",
          "name": "stdout",
          "text": [
            "1 3 "
          ]
        }
      ]
    },
    {
      "cell_type": "code",
      "source": [
        "for i in range(1,15,2):\n",
        "   if(i==5):\n",
        "     continue\n",
        "   print(i,end=\" \")"
      ],
      "metadata": {
        "colab": {
          "base_uri": "https://localhost:8080/"
        },
        "id": "RIhWfjHrExoJ",
        "outputId": "b5d543ef-b325-46f6-b30f-0774d9c6de8b"
      },
      "execution_count": 67,
      "outputs": [
        {
          "output_type": "stream",
          "name": "stdout",
          "text": [
            "1 3 7 9 11 13 "
          ]
        }
      ]
    },
    {
      "cell_type": "markdown",
      "source": [
        "Functions in Python"
      ],
      "metadata": {
        "id": "7AGKf_dZE1T-"
      }
    },
    {
      "cell_type": "code",
      "source": [
        "def add(a,b):\n",
        "  print(a+b)"
      ],
      "metadata": {
        "id": "7yuwdrZ9Exg6"
      },
      "execution_count": 68,
      "outputs": []
    },
    {
      "cell_type": "code",
      "source": [
        "add(5,10)"
      ],
      "metadata": {
        "colab": {
          "base_uri": "https://localhost:8080/"
        },
        "id": "drjl7xGyFfLQ",
        "outputId": "a28942c5-bccc-40d2-c296-79fc6d87a1bf"
      },
      "execution_count": 69,
      "outputs": [
        {
          "output_type": "stream",
          "name": "stdout",
          "text": [
            "15\n"
          ]
        }
      ]
    },
    {
      "cell_type": "code",
      "source": [
        "def add(a,b):\n",
        "  return a+b"
      ],
      "metadata": {
        "id": "SxCYH8PmFpB_"
      },
      "execution_count": 71,
      "outputs": []
    },
    {
      "cell_type": "code",
      "source": [
        "c= add(5,15)\n",
        "print (c)"
      ],
      "metadata": {
        "colab": {
          "base_uri": "https://localhost:8080/"
        },
        "id": "UlSvXuITFrds",
        "outputId": "da452cc3-28d0-4c12-e648-14da6a163cb4"
      },
      "execution_count": 74,
      "outputs": [
        {
          "output_type": "stream",
          "name": "stdout",
          "text": [
            "20\n"
          ]
        }
      ]
    },
    {
      "cell_type": "markdown",
      "source": [
        "Oops in python"
      ],
      "metadata": {
        "id": "qWsQXStiGWR-"
      }
    },
    {
      "cell_type": "code",
      "source": [
        "class Human:\n",
        "  def __init__(self,hairColor,height,eyeColor):\n",
        "    self.hairColor=hairColor\n",
        "    self.height=height\n",
        "    self.eyeColor=eyeColor\n",
        "    "
      ],
      "metadata": {
        "id": "0BXALdd7GYvO"
      },
      "execution_count": 82,
      "outputs": []
    },
    {
      "cell_type": "code",
      "source": [
        "A = Human(\"Red\",\"Long\",\"Black\")"
      ],
      "metadata": {
        "id": "hkibj4ziHU8F"
      },
      "execution_count": 83,
      "outputs": []
    },
    {
      "cell_type": "code",
      "source": [
        "B=Human(\"Black\",\"Small\",\"Brown\")"
      ],
      "metadata": {
        "id": "y23Um3BVHdP4"
      },
      "execution_count": 87,
      "outputs": []
    },
    {
      "cell_type": "code",
      "source": [
        "print(B.haircolor)"
      ],
      "metadata": {
        "id": "qARNjg4MH9qG"
      },
      "execution_count": null,
      "outputs": []
    },
    {
      "cell_type": "markdown",
      "source": [
        "Lambda Functions : To use multiple parameters"
      ],
      "metadata": {
        "id": "888vFeuDIYse"
      }
    },
    {
      "cell_type": "code",
      "source": [
        "x=lambda a,b:a+b\n",
        "print(x(20,50))"
      ],
      "metadata": {
        "colab": {
          "base_uri": "https://localhost:8080/"
        },
        "id": "A4p2PcejIbXm",
        "outputId": "65efe868-051b-440e-9dd1-aea1aaf9d56e"
      },
      "execution_count": 90,
      "outputs": [
        {
          "output_type": "stream",
          "name": "stdout",
          "text": [
            "70\n"
          ]
        }
      ]
    },
    {
      "cell_type": "markdown",
      "source": [
        "How to use keys in sorted method"
      ],
      "metadata": {
        "id": "8XZeBt2KIzlN"
      }
    },
    {
      "cell_type": "code",
      "source": [
        "lst=[1,3,4,6]\n",
        "print(sorted(lst))"
      ],
      "metadata": {
        "colab": {
          "base_uri": "https://localhost:8080/"
        },
        "id": "Sotk-BM9I22W",
        "outputId": "7435e6f4-91b9-4309-eaa9-8f130e7e9f96"
      },
      "execution_count": 91,
      "outputs": [
        {
          "output_type": "stream",
          "name": "stdout",
          "text": [
            "[1, 3, 4, 6]\n"
          ]
        }
      ]
    },
    {
      "cell_type": "code",
      "source": [
        "lst =[[1,3],[0,9],[4,1]]\n",
        "print(sorted(lst))\n",
        "#sorted by second values\n",
        "print(sorted(lst,key=lambda x:x[1]))"
      ],
      "metadata": {
        "colab": {
          "base_uri": "https://localhost:8080/"
        },
        "id": "Pk-xhxYRI-6H",
        "outputId": "b33c2525-3e52-44a6-eabc-8b568e34286b"
      },
      "execution_count": 96,
      "outputs": [
        {
          "output_type": "stream",
          "name": "stdout",
          "text": [
            "[[0, 9], [1, 3], [4, 1]]\n",
            "[[4, 1], [1, 3], [0, 9]]\n"
          ]
        }
      ]
    }
  ]
}